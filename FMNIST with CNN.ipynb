{
 "cells": [
  {
   "cell_type": "markdown",
   "metadata": {},
   "source": [
    "#### Author: Vincent Yeo\n",
    "\n",
    "### Image Recognition with Fashion MNIST dataset\n",
    "\n",
    "The Fashion MNIST serves as a replacement for the MNIST dataset as benchmark for machine learning algorithms. It contains the similar 28x28 grayscale images associated with 10 classes of objects. \n",
    "\n",
    "#### Task: \n",
    "\n",
    "Use Convolutional Neural Network (CNN) to solve image recognition problems\n"
   ]
  },
  {
   "cell_type": "code",
   "execution_count": 1,
   "metadata": {},
   "outputs": [
    {
     "name": "stderr",
     "output_type": "stream",
     "text": [
      "Using TensorFlow backend.\n"
     ]
    }
   ],
   "source": [
    "from keras.datasets import fashion_mnist\n",
    "from keras.models import Sequential\n",
    "from keras.layers import Dense, Conv2D, Flatten\n",
    "from keras.utils import np_utils\n",
    "\n",
    "import matplotlib.pyplot as plt     \n",
    "import matplotlib.cm as cm \n",
    "import numpy as np"
   ]
  },
  {
   "cell_type": "markdown",
   "metadata": {},
   "source": [
    "The dataset labels are as follows:\n",
    "\n",
    "|Label|Category|\n",
    "|-------|------|\n",
    "|0|T-shirt/top |\n",
    "|1|Trouser|\n",
    "|2|Pullover|\n",
    "|3|Dress|\n",
    "|4|Coat|\n",
    "|5|Sandal|\n",
    "|6|Shirt|\n",
    "|7|Sneaker|\n",
    "|8|Bag|\n",
    "|9|Ankle boot|"
   ]
  },
  {
   "cell_type": "code",
   "execution_count": 2,
   "metadata": {},
   "outputs": [],
   "source": [
    "(X_train, y_train), (X_test, y_test) = fashion_mnist.load_data()"
   ]
  },
  {
   "cell_type": "code",
   "execution_count": 3,
   "metadata": {},
   "outputs": [
    {
     "name": "stdout",
     "output_type": "stream",
     "text": [
      "(60000, 28, 28)\n",
      "(10000, 28, 28)\n",
      "(60000,)\n",
      "(10000,)\n"
     ]
    }
   ],
   "source": [
    "# Size of the Training and Test set\n",
    "print(X_train.shape)\n",
    "print(X_test.shape)\n",
    "print(y_train.shape)\n",
    "print(y_test.shape)"
   ]
  },
  {
   "cell_type": "code",
   "execution_count": 4,
   "metadata": {},
   "outputs": [
    {
     "name": "stdout",
     "output_type": "stream",
     "text": [
      "(60000, 784)\n",
      "(10000, 784)\n"
     ]
    }
   ],
   "source": [
    "# convert 2d arrays into 1d\n",
    "X_train = X_train.reshape(60000, 784)     \n",
    "X_test = X_test.reshape(10000, 784)\n",
    "print(X_train.shape)\n",
    "print(X_test.shape)"
   ]
  },
  {
   "cell_type": "code",
   "execution_count": 5,
   "metadata": {},
   "outputs": [],
   "source": [
    "# 10 classes of fashion\n",
    "classes = 10\n",
    "Y_train = np_utils.to_categorical(y_train, classes)     \n",
    "Y_test = np_utils.to_categorical(y_test, classes)"
   ]
  },
  {
   "cell_type": "code",
   "execution_count": 12,
   "metadata": {},
   "outputs": [
    {
     "name": "stdout",
     "output_type": "stream",
     "text": [
      "Train on 60000 samples, validate on 10000 samples\n",
      "Epoch 1/50\n",
      "60000/60000 [==============================] - 12s 195us/step - loss: 1.4942 - acc: 0.5716 - val_loss: 0.8534 - val_acc: 0.7149\n",
      "Epoch 2/50\n",
      "60000/60000 [==============================] - 4s 60us/step - loss: 0.7073 - acc: 0.7562 - val_loss: 0.6439 - val_acc: 0.7736\n",
      "Epoch 3/50\n",
      "60000/60000 [==============================] - 3s 58us/step - loss: 0.5969 - acc: 0.7879 - val_loss: 0.6081 - val_acc: 0.7809\n",
      "Epoch 4/50\n",
      "60000/60000 [==============================] - 4s 64us/step - loss: 0.5606 - acc: 0.8011 - val_loss: 0.5662 - val_acc: 0.7929\n",
      "Epoch 5/50\n",
      "60000/60000 [==============================] - 5s 79us/step - loss: 0.5517 - acc: 0.8013 - val_loss: 0.5582 - val_acc: 0.8058\n",
      "Epoch 6/50\n",
      "60000/60000 [==============================] - 6s 97us/step - loss: 0.5447 - acc: 0.8005 - val_loss: 0.5658 - val_acc: 0.8003\n",
      "Epoch 7/50\n",
      "60000/60000 [==============================] - 5s 83us/step - loss: 0.5442 - acc: 0.8035 - val_loss: 0.5656 - val_acc: 0.7952\n",
      "Epoch 8/50\n",
      "60000/60000 [==============================] - 4s 69us/step - loss: 0.5474 - acc: 0.8036 - val_loss: 0.5714 - val_acc: 0.7882\n",
      "Epoch 9/50\n",
      "60000/60000 [==============================] - 3s 57us/step - loss: 0.5328 - acc: 0.8083 - val_loss: 0.5492 - val_acc: 0.8045\n",
      "Epoch 10/50\n",
      "60000/60000 [==============================] - 4s 63us/step - loss: 0.5194 - acc: 0.8118 - val_loss: 0.5813 - val_acc: 0.7727\n",
      "Epoch 11/50\n",
      "60000/60000 [==============================] - 4s 65us/step - loss: 0.5112 - acc: 0.8154 - val_loss: 0.5458 - val_acc: 0.8098\n",
      "Epoch 12/50\n",
      "60000/60000 [==============================] - 4s 69us/step - loss: 0.5088 - acc: 0.8195 - val_loss: 0.5428 - val_acc: 0.8126\n",
      "Epoch 13/50\n",
      "60000/60000 [==============================] - 5s 77us/step - loss: 0.5036 - acc: 0.8182 - val_loss: 0.5309 - val_acc: 0.8139\n",
      "Epoch 14/50\n",
      "60000/60000 [==============================] - 5s 76us/step - loss: 0.4985 - acc: 0.8182 - val_loss: 0.5483 - val_acc: 0.7986\n",
      "Epoch 15/50\n",
      "60000/60000 [==============================] - 5s 91us/step - loss: 0.5028 - acc: 0.8192 - val_loss: 0.5569 - val_acc: 0.7956\n",
      "Epoch 16/50\n",
      "60000/60000 [==============================] - 6s 94us/step - loss: 0.4935 - acc: 0.8249 - val_loss: 0.5272 - val_acc: 0.8162\n",
      "Epoch 17/50\n",
      "60000/60000 [==============================] - 5s 81us/step - loss: 0.4944 - acc: 0.8229 - val_loss: 0.5312 - val_acc: 0.8099\n",
      "Epoch 18/50\n",
      "60000/60000 [==============================] - 4s 68us/step - loss: 0.4960 - acc: 0.8186 - val_loss: 0.5330 - val_acc: 0.8087\n",
      "Epoch 19/50\n",
      "60000/60000 [==============================] - 4s 67us/step - loss: 0.4829 - acc: 0.8253 - val_loss: 0.5157 - val_acc: 0.8176\n",
      "Epoch 20/50\n",
      "60000/60000 [==============================] - 4s 62us/step - loss: 0.4677 - acc: 0.8344 - val_loss: 0.5021 - val_acc: 0.8215\n",
      "Epoch 21/50\n",
      "60000/60000 [==============================] - 4s 72us/step - loss: 0.4738 - acc: 0.8320 - val_loss: 0.5211 - val_acc: 0.8157\n",
      "Epoch 22/50\n",
      "60000/60000 [==============================] - 4s 69us/step - loss: 0.4681 - acc: 0.8314 - val_loss: 0.5090 - val_acc: 0.8136\n",
      "Epoch 23/50\n",
      "60000/60000 [==============================] - 4s 66us/step - loss: 0.4647 - acc: 0.8302 - val_loss: 0.5117 - val_acc: 0.8183\n",
      "Epoch 24/50\n",
      "60000/60000 [==============================] - 4s 65us/step - loss: 0.4691 - acc: 0.8320 - val_loss: 0.5336 - val_acc: 0.8130\n",
      "Epoch 25/50\n",
      "60000/60000 [==============================] - 4s 68us/step - loss: 0.4913 - acc: 0.8197 - val_loss: 0.5391 - val_acc: 0.8073\n",
      "10000/10000 [==============================] - 2s 239us/step\n",
      "Test accuracy: 0.8073\n"
     ]
    }
   ],
   "source": [
    "# Import early stopping from keras callbacks\n",
    "from keras.callbacks import EarlyStopping\n",
    "# Instantiate an early stopping callback\n",
    "early_stopping = EarlyStopping(monitor='val_loss', patience=5)\n",
    "\n",
    "epochs = 50\n",
    "batch_size = 1000\n",
    "\n",
    "model = Sequential()     \n",
    "model.add(Dense(100, input_shape=(784, ), activation='sigmoid'))     \n",
    "\n",
    "# Hidden layers\n",
    "model.add(Dense(100, activation='relu'))\n",
    "\n",
    "# Hidden layers\n",
    "model.add(Dense(100, activation='sigmoid'))\n",
    "\n",
    "# Output Layers\n",
    "model.add(Dense(10, activation='softmax')) \n",
    "\n",
    "model.compile(loss='categorical_crossentropy', metrics=['accuracy'], optimizer='adam')\n",
    "\n",
    "history = model.fit(X_train, Y_train, batch_size=batch_size, validation_data=(X_test, Y_test), epochs=epochs, verbose=1, callbacks = [early_stopping])\n",
    "\n",
    "score = model.evaluate(X_test, Y_test, verbose=1)\n",
    "print('Test accuracy:', score[1]) "
   ]
  },
  {
   "cell_type": "code",
   "execution_count": 13,
   "metadata": {},
   "outputs": [
    {
     "data": {
      "image/png": "[encoded data removed]",
      "text/plain": [
       "<Figure size 432x288 with 1 Axes>"
      ]
     },
     "metadata": {
      "needs_background": "light"
     },
     "output_type": "display_data"
    }
   ],
   "source": [
    "# Plot train vs test accuracy per epoch\n",
    "plt.figure()\n",
    "\n",
    "plt.plot(history.history['acc'])\n",
    "plt.plot(history.history['val_acc'])\n",
    "\n",
    "plt.title('Model accuracy')\n",
    "plt.ylabel('Accuracy')\n",
    "plt.xlabel('Epoch')\n",
    "plt.legend(['Train', 'Test'])\n",
    "plt.show()"
   ]
  },
  {
   "cell_type": "code",
   "execution_count": 14,
   "metadata": {},
   "outputs": [
    {
     "name": "stdout",
     "output_type": "stream",
     "text": [
      "_________________________________________________________________\n",
      "Layer (type)                 Output Shape              Param #   \n",
      "=================================================================\n",
      "dense_5 (Dense)              (None, 100)               78500     \n",
      "_________________________________________________________________\n",
      "dense_6 (Dense)              (None, 100)               10100     \n",
      "_________________________________________________________________\n",
      "dense_7 (Dense)              (None, 100)               10100     \n",
      "_________________________________________________________________\n",
      "dense_8 (Dense)              (None, 10)                1010      \n",
      "=================================================================\n",
      "Total params: 99,710\n",
      "Trainable params: 99,710\n",
      "Non-trainable params: 0\n",
      "_________________________________________________________________\n"
     ]
    }
   ],
   "source": [
    "model.summary()"
   ]
  },
  {
   "cell_type": "code",
   "execution_count": 15,
   "metadata": {},
   "outputs": [
    {
     "name": "stdout",
     "output_type": "stream",
     "text": [
      "10000/10000 [==============================] - 2s 193us/step\n",
      "Accuracy: 80.730%\n"
     ]
    }
   ],
   "source": [
    "# Final evaluation of the model\n",
    "score = model.evaluate(X_test, Y_test, verbose=1)\n",
    "print(\"Accuracy: {:.3f}%\".format(score[1]*100))"
   ]
  },
  {
   "cell_type": "code",
   "execution_count": null,
   "metadata": {},
   "outputs": [],
   "source": [
    "# model.save('fmnist.h5')"
   ]
  },
  {
   "cell_type": "code",
   "execution_count": 8,
   "metadata": {},
   "outputs": [],
   "source": [
    "from keras.models import load_model\n",
    "my_model = load_model('fmnist.h5')"
   ]
  },
  {
   "cell_type": "code",
   "execution_count": 6,
   "metadata": {},
   "outputs": [],
   "source": [
    "from sklearn.metrics import classification_report\n",
    "\n",
    "def evaluateClassifier(model, X_test, y_test):\n",
    "    \n",
    "    #round up the labels\n",
    "    y_test_rounded = np.argmax(y_test, axis=1)\n",
    "    \n",
    "    y_pred = model.predict_classes(X_test)\n",
    "    \n",
    "    report = classification_report(y_test_rounded, y_pred)\n",
    "    print(report)\n",
    "\n",
    "    return report"
   ]
  },
  {
   "cell_type": "code",
   "execution_count": 9,
   "metadata": {},
   "outputs": [
    {
     "name": "stdout",
     "output_type": "stream",
     "text": [
      "              precision    recall  f1-score   support\n",
      "\n",
      "           0       0.80      0.74      0.77      1000\n",
      "           1       0.97      0.95      0.96      1000\n",
      "           2       0.76      0.58      0.66      1000\n",
      "           3       0.82      0.83      0.83      1000\n",
      "           4       0.58      0.83      0.68      1000\n",
      "           5       0.93      0.90      0.91      1000\n",
      "           6       0.55      0.50      0.53      1000\n",
      "           7       0.89      0.90      0.90      1000\n",
      "           8       0.94      0.92      0.93      1000\n",
      "           9       0.90      0.93      0.91      1000\n",
      "\n",
      "    accuracy                           0.81     10000\n",
      "   macro avg       0.81      0.81      0.81     10000\n",
      "weighted avg       0.81      0.81      0.81     10000\n",
      "\n"
     ]
    }
   ],
   "source": [
    "report = evaluateClassifier(my_model, X_test, Y_test)"
   ]
  },
  {
   "cell_type": "markdown",
   "metadata": {},
   "source": [
    "#### Results & Analysis\n",
    "Model achieves 80.73% on unseen test data"
   ]
  },
  {
   "cell_type": "markdown",
   "metadata": {},
   "source": [
    "Based on each precision score, the model's prediction would be realised truely for\n",
    "\n",
    "+ the `T-shirt/top`, 80% of the time.\n",
    "+ the `Trouser`, 97% of the time.\n",
    "+ the `Pullover`, 76% of the time.\n",
    "+ the `Dress`, 82% of the time.\n",
    "+ the `Coat`, 58% of the time.\n",
    "+ the `Sandal`, 93% of the time.\n",
    "+ the `Shirt`, 55% of the time.\n",
    "+ the `Sneaker`, 89% of the time.\n",
    "+ the `Bag`, 94% of the time.\n",
    "+ the `Ankle Boot`, 90% of the time.\n",
    "\n",
    "Based on each recall score, the model's prediction for\n",
    "\n",
    "+ the `T-shirt/top` has about 74% being correct.\n",
    "+ the `Trouser` has about 95% being correct.\n",
    "+ the `Pullover` has about 58% being correct.\n",
    "+ the `Dress` has about 83% being correct.\n",
    "+ the `Coat` has about 83% being correct.\n",
    "+ the `Sandal` has about 90% being correct.\n",
    "+ the `Shirt` has about 50% being correct.\n",
    "+ the `Sneaker` has about 90% being correct.\n",
    "+ the `Bag` has about 92% being correct.\n",
    "+ the `Ankle Boot` has about 93% being correct.\n",
    "\n",
    "Based on each f1 score, the weighted average of the precision and recall for\n",
    "\n",
    "+ the `T-shirt/top` is 77%\n",
    "+ the `Trouser` is 96%\n",
    "+ the `Pullover` is 66%\n",
    "+ the `Dress` is 83%\n",
    "+ the `Coat` is 68%\n",
    "+ the `Sandal` is 91%\n",
    "+ the `Shirt` is 53%\n",
    "+ the `Sneaker` is 90%\n",
    "+ the `Bag` is 93%\n",
    "+ the `Ankle Boot` is 91%"
   ]
  }
 ],
 "metadata": {
  "kernelspec": {
   "display_name": "Python 3",
   "language": "python",
   "name": "python3"
  },
  "language_info": {
   "codemirror_mode": {
    "name": "ipython",
    "version": 3
   },
   "file_extension": ".py",
   "mimetype": "text/x-python",
   "name": "python",
   "nbconvert_exporter": "python",
   "pygments_lexer": "ipython3",
   "version": "3.7.5"
  }
 },
 "nbformat": 4,
 "nbformat_minor": 2
}
